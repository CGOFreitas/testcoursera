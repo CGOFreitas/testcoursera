{
  "cells": [
    {
      "cell_type": "markdown",
      "metadata": {
        "id": "9p8XIWYQtaWj"
      },
      "source": [
        "<center>\n",
        "    <img src=\"https://cf-courses-data.s3.us.cloud-object-storage.appdomain.cloud/IBMDeveloperSkillsNetwork-DS0105EN-SkillsNetwork/labs/Module2/images/SN_web_lightmode.png\" width=\"300\" alt=\"cognitiveclass.ai logo\">\n",
        "</center>\n"
      ]
    },
    {
      "cell_type": "markdown",
      "metadata": {
        "id": "4wIownwrtaWl"
      },
      "source": [
        "#### Add your code below following the instructions given in the course\n"
      ]
    },
    {
      "cell_type": "markdown",
      "source": [
        "#Data Science Tools and Ecosystem"
      ],
      "metadata": {
        "id": "7hBtkWbVvR9Z"
      }
    },
    {
      "cell_type": "markdown",
      "source": [
        "In this notebook, Data Science Tools and Ecosystem are summarized."
      ],
      "metadata": {
        "id": "xPuZF4D1wK5J"
      }
    },
    {
      "cell_type": "markdown",
      "source": [
        "Objectives:\n",
        "\n",
        "* List popular languages for Data Science\n",
        "* List popular Data Science libraries\n",
        "* List Data Science development environment open source tools\n",
        "* Explore arithmetic expressions"
      ],
      "metadata": {
        "id": "Zclxp8x_5d7H"
      }
    },
    {
      "cell_type": "markdown",
      "source": [
        "Some of the popular languages that Data Scientists use are:\n",
        "\n",
        "1. python\n",
        "2. R\n",
        "3. SQL"
      ],
      "metadata": {
        "id": "z8Js7Jbcx5r2"
      }
    },
    {
      "cell_type": "markdown",
      "source": [
        "Some of the commonly used libraries used by Data Scientists include:\n",
        "\n",
        "1. matplotlib *(in python)*\n",
        "2. numpy *(in python)*\n",
        "3. pandas *(in python)*\n",
        "4. ggplot2 *(in R)*"
      ],
      "metadata": {
        "id": "h4NCcVvfxA_N"
      }
    },
    {
      "cell_type": "markdown",
      "source": [
        "\n",
        "|Data Science Tools|\n",
        "|:-----------------|\n",
        "|Jupyter Notebook|\n",
        "|RStudio|\n",
        "|Spyder|\n",
        "\n"
      ],
      "metadata": {
        "id": "2hR19pVczK6O"
      }
    },
    {
      "cell_type": "markdown",
      "source": [
        "### Below are a few examples of evaluating arithmetic expressions in Python:"
      ],
      "metadata": {
        "id": "LU1_gkdS1xPn"
      }
    },
    {
      "cell_type": "code",
      "source": [
        "#This is a simple arithmetic expression to multiply then add integers\n",
        "(3*4)+5"
      ],
      "metadata": {
        "colab": {
          "base_uri": "https://localhost:8080/"
        },
        "id": "sYX1cIoG2314",
        "outputId": "e71770dd-e7b9-4b2f-c2b2-be6f82b74f35"
      },
      "execution_count": 1,
      "outputs": [
        {
          "output_type": "execute_result",
          "data": {
            "text/plain": [
              "17"
            ]
          },
          "metadata": {},
          "execution_count": 1
        }
      ]
    },
    {
      "cell_type": "code",
      "source": [
        "#This will convert 200 minutes to hours by dividing by 60\n",
        "m = 200\n",
        "h = m//60\n",
        "r = (m - 60*h)\n",
        "print(h, 'hours e ', r, ' minutes')"
      ],
      "metadata": {
        "colab": {
          "base_uri": "https://localhost:8080/"
        },
        "id": "CkdxYVEw3adl",
        "outputId": "84eb9c26-5970-4104-887b-74073bee15f3"
      },
      "execution_count": 10,
      "outputs": [
        {
          "output_type": "stream",
          "name": "stdout",
          "text": [
            "3 hours and 20  minutes\n"
          ]
        }
      ]
    },
    {
      "cell_type": "markdown",
      "source": [
        "## Author\n",
        "C. G. O. Freitas"
      ],
      "metadata": {
        "id": "SRslYcum6ohP"
      }
    }
  ],
  "metadata": {
    "kernelspec": {
      "display_name": "Python",
      "language": "python",
      "name": "conda-env-python-py"
    },
    "language_info": {
      "name": ""
    },
    "colab": {
      "provenance": []
    }
  },
  "nbformat": 4,
  "nbformat_minor": 0
}
